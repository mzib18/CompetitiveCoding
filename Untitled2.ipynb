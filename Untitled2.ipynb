{
 "cells": [
  {
   "cell_type": "markdown",
   "metadata": {},
   "source": [
    "# Unix Commands For Data Scientists"
   ]
  },
  {
   "cell_type": "markdown",
   "metadata": {},
   "source": [
    "## Declare Filename"
   ]
  },
  {
   "cell_type": "code",
   "execution_count": 1,
   "metadata": {},
   "outputs": [
    {
     "name": "stdout",
     "output_type": "stream",
     "text": [
      "Week-3-UNIX\n",
      "__MACOSX\n"
     ]
    }
   ],
   "source": [
    "!ls ./unix"
   ]
  },
  {
   "cell_type": "code",
   "execution_count": 2,
   "metadata": {},
   "outputs": [
    {
     "name": "stdout",
     "output_type": "stream",
     "text": [
      "shakespeare.txt\n"
     ]
    }
   ],
   "source": [
    "!ls ./unix/Week-3-UNIX/unix"
   ]
  },
  {
   "cell_type": "code",
   "execution_count": 10,
   "metadata": {},
   "outputs": [
    {
     "name": "stdout",
     "output_type": "stream",
     "text": [
      "./unix/Week-3-UNIX/unix/shakespeare.txt\n",
      "./unix/Week-3-UNIX/unix/shakespeare.txt\n"
     ]
    }
   ],
   "source": [
    "filename='./unix/Week-3-UNIX/unix/shakespeare.txt'\n",
    "!echo $filename\n",
    "print(filename)"
   ]
  },
  {
   "cell_type": "markdown",
   "metadata": {},
   "source": [
    "## Head"
   ]
  },
  {
   "cell_type": "code",
   "execution_count": 4,
   "metadata": {},
   "outputs": [
    {
     "name": "stdout",
     "output_type": "stream",
     "text": [
      "This is the 100th Etext file presented by Project Gutenberg, and\n",
      "is presented in cooperation with World Library, Inc., from their\n",
      "Library of the Future and Shakespeare CDROMS.  Project Gutenberg\n"
     ]
    }
   ],
   "source": [
    "!head -n 3 $filename"
   ]
  },
  {
   "cell_type": "markdown",
   "metadata": {},
   "source": [
    "## Tail"
   ]
  },
  {
   "cell_type": "code",
   "execution_count": 6,
   "metadata": {},
   "outputs": [
    {
     "name": "stdout",
     "output_type": "stream",
     "text": [
      "PERSONAL USE ONLY, AND (2) ARE NOT DISTRIBUTED OR USED\n",
      "COMMERCIALLY.  PROHIBITED COMMERCIAL DISTRIBUTION INCLUDES BY ANY\n",
      "SERVICE THAT CHARGES FOR DOWNLOAD TIME OR FOR MEMBERSHIP.>>\n",
      "\n",
      "\n",
      "\n",
      "End of this Etext of The Complete Works of William Shakespeare\n",
      "\n",
      "\n",
      "\n"
     ]
    }
   ],
   "source": [
    "!tail -n 10 $filename"
   ]
  },
  {
   "cell_type": "markdown",
   "metadata": {},
   "source": [
    "## wc"
   ]
  },
  {
   "cell_type": "code",
   "execution_count": 7,
   "metadata": {},
   "outputs": [
    {
     "name": "stdout",
     "output_type": "stream",
     "text": [
      " 124505  901447 5583442 ./unix/Week-3-UNIX/unix/shakespeare.txt\n"
     ]
    }
   ],
   "source": [
    "!wc $filename"
   ]
  },
  {
   "cell_type": "code",
   "execution_count": 8,
   "metadata": {},
   "outputs": [
    {
     "name": "stdout",
     "output_type": "stream",
     "text": [
      "124505 ./unix/Week-3-UNIX/unix/shakespeare.txt\n"
     ]
    }
   ],
   "source": [
    "!wc -l $filename"
   ]
  },
  {
   "cell_type": "markdown",
   "metadata": {},
   "source": [
    "## cat"
   ]
  },
  {
   "cell_type": "code",
   "execution_count": 9,
   "metadata": {},
   "outputs": [
    {
     "name": "stdout",
     "output_type": "stream",
     "text": [
      "124505\n"
     ]
    }
   ],
   "source": [
    "!cat $filename | wc -l"
   ]
  },
  {
   "cell_type": "markdown",
   "metadata": {},
   "source": [
    "## grep"
   ]
  },
  {
   "cell_type": "code",
   "execution_count": 11,
   "metadata": {},
   "outputs": [
    {
     "name": "stdout",
     "output_type": "stream",
     "text": [
      "  If the skin were parchment, and the blows you gave were ink,\n",
      "  Ham. Is not parchment made of sheepskins?\n",
      "    of the skin of an innocent lamb should be made parchment? That\n",
      "    parchment, being scribbl'd o'er, should undo a man? Some say the\n",
      "    Upon a parchment, and against this fire\n",
      "    But here's a parchment with the seal of Caesar;  \n",
      "    With inky blots and rotten parchment bonds;\n",
      "    Nor brass, nor stone, nor parchment, bears not one,\n"
     ]
    }
   ],
   "source": [
    "#grep -i for case insensitve matching\n",
    "!grep -i 'parchment' $filename"
   ]
  },
  {
   "cell_type": "code",
   "execution_count": 12,
   "metadata": {},
   "outputs": [
    {
     "name": "stdout",
     "output_type": "stream",
     "text": [
      "72\n"
     ]
    }
   ],
   "source": [
    "!grep -i 'liberty' $filename | wc -l"
   ]
  },
  {
   "cell_type": "markdown",
   "metadata": {},
   "source": [
    "## sed"
   ]
  },
  {
   "cell_type": "code",
   "execution_count": 13,
   "metadata": {},
   "outputs": [
    {
     "ename": "SyntaxError",
     "evalue": "invalid syntax (<ipython-input-13-017f27972bc2>, line 1)",
     "output_type": "error",
     "traceback": [
      "\u001b[1;36m  File \u001b[1;32m\"<ipython-input-13-017f27972bc2>\"\u001b[1;36m, line \u001b[1;32m1\u001b[0m\n\u001b[1;33m    sed -e 's/parchment/manuscript/g' $filename|grep -i 'manuscript'\u001b[0m\n\u001b[1;37m           ^\u001b[0m\n\u001b[1;31mSyntaxError\u001b[0m\u001b[1;31m:\u001b[0m invalid syntax\n"
     ]
    }
   ],
   "source": [
    "sed -e 's/parchment/manuscript/g' $filename|grep -i 'manuscript'"
   ]
  },
  {
   "cell_type": "code",
   "execution_count": 14,
   "metadata": {},
   "outputs": [
    {
     "name": "stdout",
     "output_type": "stream",
     "text": [
      "  If the skin were manuscript, and the blows you gave were ink,\n",
      "  Ham. Is not manuscript made of sheepskins?\n",
      "    of the skin of an innocent lamb should be made manuscript? That\n",
      "    manuscript, being scribbl'd o'er, should undo a man? Some say the\n",
      "    Upon a manuscript, and against this fire\n",
      "    But here's a manuscript with the seal of Caesar;  \n",
      "    With inky blots and rotten manuscript bonds;\n",
      "    Nor brass, nor stone, nor manuscript, bears not one,\n"
     ]
    }
   ],
   "source": [
    "!sed -e 's/parchment/manuscript/g' $filename|grep -i 'manuscript'"
   ]
  },
  {
   "cell_type": "code",
   "execution_count": 15,
   "metadata": {},
   "outputs": [
    {
     "name": "stdout",
     "output_type": "stream",
     "text": [
      "This is the 100th Etext file presented by Project Gutenberg, and\n",
      "is presented in cooperation with World Library, Inc., from their\n",
      "Library of the Future and Shakespeare CDROMS.  Project Gutenberg\n",
      "often releases Etexts that are NOT placed in the Public Domain!!\n",
      "\n"
     ]
    }
   ],
   "source": [
    "!head -n 5 $filename"
   ]
  },
  {
   "cell_type": "code",
   "execution_count": 16,
   "metadata": {},
   "outputs": [
    {
     "name": "stdout",
     "output_type": "stream",
     "text": [
      "\n",
      "is presented in cooperation with World Library, Inc., from their\n",
      "Library of the Future and Shakespeare CDROMS.  Project Gutenberg\n",
      "often releases Etexts that are NOT placed in the Public Domain!!\n",
      "This is the 100th Etext file presented by Project Gutenberg, and\n"
     ]
    }
   ],
   "source": [
    "#sorting by only first letter of each line\n",
    "!head -n 5 $filename | sort"
   ]
  },
  {
   "cell_type": "code",
   "execution_count": 20,
   "metadata": {},
   "outputs": [],
   "source": [
    "!head -n 5 $filename > temp.txt"
   ]
  },
  {
   "cell_type": "code",
   "execution_count": 23,
   "metadata": {},
   "outputs": [
    {
     "name": "stdout",
     "output_type": "stream",
     "text": [
      "110943\n"
     ]
    }
   ],
   "source": [
    "!sort $filename | uniq -u| wc -l#counts the number of unique line in txt"
   ]
  },
  {
   "cell_type": "markdown",
   "metadata": {},
   "source": [
    "## Count the most frequent 15 words in shakespeare.txt"
   ]
  },
  {
   "cell_type": "code",
   "execution_count": 25,
   "metadata": {},
   "outputs": [
    {
     "name": "stdout",
     "output_type": "stream",
     "text": [
      "This\n",
      "is\n",
      "the\n",
      "100th\n",
      "Etext\n",
      "file\n",
      "presented\n",
      "by\n",
      "Project\n",
      "Gutenberg,\n"
     ]
    }
   ],
   "source": [
    "!sed -e 's/ /\\n/g'  -e 's/\\r//g' < $filename | head"
   ]
  },
  {
   "cell_type": "code",
   "execution_count": 65,
   "metadata": {},
   "outputs": [],
   "source": [
    "!sed -e 's/ /\\n/g'  -e 's/\\r//g' < $filename > out1.txt"
   ]
  },
  {
   "cell_type": "code",
   "execution_count": 74,
   "metadata": {},
   "outputs": [
    {
     "name": "stdout",
     "output_type": "stream",
     "text": [
      "This\n",
      "is\n",
      "the\n",
      "100th\n",
      "Etext\n",
      "file\n",
      "presented\n",
      "by\n",
      "Project\n",
      "Gutenberg,\n"
     ]
    }
   ],
   "source": [
    "!cat out1.txt|head "
   ]
  },
  {
   "cell_type": "code",
   "execution_count": null,
   "metadata": {},
   "outputs": [],
   "source": []
  }
 ],
 "metadata": {
  "kernelspec": {
   "display_name": "Python 3",
   "language": "python",
   "name": "python3"
  },
  "language_info": {
   "codemirror_mode": {
    "name": "ipython",
    "version": 3
   },
   "file_extension": ".py",
   "mimetype": "text/x-python",
   "name": "python",
   "nbconvert_exporter": "python",
   "pygments_lexer": "ipython3",
   "version": "3.8.5"
  }
 },
 "nbformat": 4,
 "nbformat_minor": 4
}
